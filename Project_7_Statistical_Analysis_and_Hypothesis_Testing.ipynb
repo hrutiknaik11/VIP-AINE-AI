{
  "nbformat": 4,
  "nbformat_minor": 0,
  "metadata": {
    "kernelspec": {
      "display_name": "Python 3",
      "language": "python",
      "name": "python3"
    },
    "language_info": {
      "codemirror_mode": {
        "name": "ipython",
        "version": 3
      },
      "file_extension": ".py",
      "mimetype": "text/x-python",
      "name": "python",
      "nbconvert_exporter": "python",
      "pygments_lexer": "ipython3",
      "version": "3.8.5"
    },
    "colab": {
      "name": "Project 7: Statistical Analysis and Hypothesis Testing.ipynb",
      "provenance": [],
      "collapsed_sections": []
    }
  },
  "cells": [
    {
      "cell_type": "markdown",
      "metadata": {
        "id": "kv-TcsXdiSZp"
      },
      "source": [
        "# Project 7: Statistical Analysis and Hypothesis Testing\n",
        "\n",
        "# **By Hrutik Naik**"
      ]
    },
    {
      "cell_type": "markdown",
      "metadata": {
        "id": "gi9x4HR1iSZp"
      },
      "source": [
        "## Packages and setup"
      ]
    },
    {
      "cell_type": "code",
      "metadata": {
        "id": "NdQrrUh3iSZq"
      },
      "source": [
        "import numpy as np\n",
        "import pandas as pd \n",
        "import seaborn as sns\n",
        "import matplotlib.pyplot as plt\n",
        "import os\n",
        "\n",
        "from scipy.stats import shapiro\n",
        "import scipy.stats as stats\n",
        "\n",
        "#parameter settings\n",
        "from IPython.core.interactiveshell import InteractiveShell\n",
        "InteractiveShell.ast_node_interactivity = \"all\"\n",
        "import warnings\n",
        "warnings.filterwarnings(\"ignore\")\n",
        "warnings.simplefilter(action='ignore', category=FutureWarning)"
      ],
      "execution_count": null,
      "outputs": []
    },
    {
      "cell_type": "markdown",
      "metadata": {
        "id": "qqf_XDwZiSZq"
      },
      "source": [
        "### Reading data and initial processing"
      ]
    },
    {
      "cell_type": "code",
      "metadata": {
        "id": "OE839ZtOiSZr",
        "colab": {
          "base_uri": "https://localhost:8080/",
          "height": 345
        },
        "outputId": "ee76bc0b-99fd-48eb-aded-7d643d76c6e9"
      },
      "source": [
        "#Read data using pandas\n",
        "user_df=pd.read_csv(\"/content/cookie_cats.csv\")\n",
        "\n",
        "#Check data types of each column using \"dtypes\" function\n",
        "print(\"Data types for the data set:\")\n",
        "user_df.dtypes\n",
        "\n",
        "#Check dimension of data i.e. # of rows and #column using pandas \"shape\" funtion\n",
        "print(\"Shape of the data i.e. no. of rows and columns\")\n",
        "user_df.shape\n",
        "\n",
        "#display first 5 rows of the data using \"head\" function\n",
        "print(\"First 5 rows of the raw data:\")\n",
        "user_df.head(5)"
      ],
      "execution_count": null,
      "outputs": [
        {
          "output_type": "stream",
          "name": "stdout",
          "text": [
            "Data types for the data set:\n"
          ]
        },
        {
          "output_type": "execute_result",
          "data": {
            "text/plain": [
              "userid             int64\n",
              "version           object\n",
              "sum_gamerounds     int64\n",
              "retention_1         bool\n",
              "retention_7         bool\n",
              "dtype: object"
            ]
          },
          "metadata": {},
          "execution_count": 2
        },
        {
          "output_type": "stream",
          "name": "stdout",
          "text": [
            "Shape of the data i.e. no. of rows and columns\n"
          ]
        },
        {
          "output_type": "execute_result",
          "data": {
            "text/plain": [
              "(90189, 5)"
            ]
          },
          "metadata": {},
          "execution_count": 2
        },
        {
          "output_type": "stream",
          "name": "stdout",
          "text": [
            "First 5 rows of the raw data:\n"
          ]
        },
        {
          "output_type": "execute_result",
          "data": {
            "text/html": [
              "<div>\n",
              "<style scoped>\n",
              "    .dataframe tbody tr th:only-of-type {\n",
              "        vertical-align: middle;\n",
              "    }\n",
              "\n",
              "    .dataframe tbody tr th {\n",
              "        vertical-align: top;\n",
              "    }\n",
              "\n",
              "    .dataframe thead th {\n",
              "        text-align: right;\n",
              "    }\n",
              "</style>\n",
              "<table border=\"1\" class=\"dataframe\">\n",
              "  <thead>\n",
              "    <tr style=\"text-align: right;\">\n",
              "      <th></th>\n",
              "      <th>userid</th>\n",
              "      <th>version</th>\n",
              "      <th>sum_gamerounds</th>\n",
              "      <th>retention_1</th>\n",
              "      <th>retention_7</th>\n",
              "    </tr>\n",
              "  </thead>\n",
              "  <tbody>\n",
              "    <tr>\n",
              "      <th>0</th>\n",
              "      <td>116</td>\n",
              "      <td>gate_30</td>\n",
              "      <td>3</td>\n",
              "      <td>False</td>\n",
              "      <td>False</td>\n",
              "    </tr>\n",
              "    <tr>\n",
              "      <th>1</th>\n",
              "      <td>337</td>\n",
              "      <td>gate_30</td>\n",
              "      <td>38</td>\n",
              "      <td>True</td>\n",
              "      <td>False</td>\n",
              "    </tr>\n",
              "    <tr>\n",
              "      <th>2</th>\n",
              "      <td>377</td>\n",
              "      <td>gate_40</td>\n",
              "      <td>165</td>\n",
              "      <td>True</td>\n",
              "      <td>False</td>\n",
              "    </tr>\n",
              "    <tr>\n",
              "      <th>3</th>\n",
              "      <td>483</td>\n",
              "      <td>gate_40</td>\n",
              "      <td>1</td>\n",
              "      <td>False</td>\n",
              "      <td>False</td>\n",
              "    </tr>\n",
              "    <tr>\n",
              "      <th>4</th>\n",
              "      <td>488</td>\n",
              "      <td>gate_40</td>\n",
              "      <td>179</td>\n",
              "      <td>True</td>\n",
              "      <td>True</td>\n",
              "    </tr>\n",
              "  </tbody>\n",
              "</table>\n",
              "</div>"
            ],
            "text/plain": [
              "   userid  version  sum_gamerounds  retention_1  retention_7\n",
              "0     116  gate_30               3        False        False\n",
              "1     337  gate_30              38         True        False\n",
              "2     377  gate_40             165         True        False\n",
              "3     483  gate_40               1        False        False\n",
              "4     488  gate_40             179         True         True"
            ]
          },
          "metadata": {},
          "execution_count": 2
        }
      ]
    },
    {
      "cell_type": "markdown",
      "metadata": {
        "id": "hMuveQlXiSZr"
      },
      "source": [
        "## Exercise"
      ]
    },
    {
      "cell_type": "markdown",
      "metadata": {
        "id": "iN8-hwHDiSZs"
      },
      "source": [
        "## Q1. Detect and resolve problems in the data (Missing value, Outliers, etc.)"
      ]
    },
    {
      "cell_type": "markdown",
      "metadata": {
        "id": "h_ZnLazliSZs"
      },
      "source": [
        "### Q1.1 Identify missing value"
      ]
    },
    {
      "cell_type": "code",
      "metadata": {
        "id": "g0YE1IjfiSZs",
        "colab": {
          "base_uri": "https://localhost:8080/",
          "height": 423
        },
        "outputId": "31ebbbce-33ee-402d-925f-c1fdf2e47e9e"
      },
      "source": [
        "#Check for any missing values in the data using isnull() function\n",
        "\n",
        "user_df.isnull()"
      ],
      "execution_count": null,
      "outputs": [
        {
          "output_type": "execute_result",
          "data": {
            "text/html": [
              "<div>\n",
              "<style scoped>\n",
              "    .dataframe tbody tr th:only-of-type {\n",
              "        vertical-align: middle;\n",
              "    }\n",
              "\n",
              "    .dataframe tbody tr th {\n",
              "        vertical-align: top;\n",
              "    }\n",
              "\n",
              "    .dataframe thead th {\n",
              "        text-align: right;\n",
              "    }\n",
              "</style>\n",
              "<table border=\"1\" class=\"dataframe\">\n",
              "  <thead>\n",
              "    <tr style=\"text-align: right;\">\n",
              "      <th></th>\n",
              "      <th>userid</th>\n",
              "      <th>version</th>\n",
              "      <th>sum_gamerounds</th>\n",
              "      <th>retention_1</th>\n",
              "      <th>retention_7</th>\n",
              "    </tr>\n",
              "  </thead>\n",
              "  <tbody>\n",
              "    <tr>\n",
              "      <th>0</th>\n",
              "      <td>False</td>\n",
              "      <td>False</td>\n",
              "      <td>False</td>\n",
              "      <td>False</td>\n",
              "      <td>False</td>\n",
              "    </tr>\n",
              "    <tr>\n",
              "      <th>1</th>\n",
              "      <td>False</td>\n",
              "      <td>False</td>\n",
              "      <td>False</td>\n",
              "      <td>False</td>\n",
              "      <td>False</td>\n",
              "    </tr>\n",
              "    <tr>\n",
              "      <th>2</th>\n",
              "      <td>False</td>\n",
              "      <td>False</td>\n",
              "      <td>False</td>\n",
              "      <td>False</td>\n",
              "      <td>False</td>\n",
              "    </tr>\n",
              "    <tr>\n",
              "      <th>3</th>\n",
              "      <td>False</td>\n",
              "      <td>False</td>\n",
              "      <td>False</td>\n",
              "      <td>False</td>\n",
              "      <td>False</td>\n",
              "    </tr>\n",
              "    <tr>\n",
              "      <th>4</th>\n",
              "      <td>False</td>\n",
              "      <td>False</td>\n",
              "      <td>False</td>\n",
              "      <td>False</td>\n",
              "      <td>False</td>\n",
              "    </tr>\n",
              "    <tr>\n",
              "      <th>...</th>\n",
              "      <td>...</td>\n",
              "      <td>...</td>\n",
              "      <td>...</td>\n",
              "      <td>...</td>\n",
              "      <td>...</td>\n",
              "    </tr>\n",
              "    <tr>\n",
              "      <th>90184</th>\n",
              "      <td>False</td>\n",
              "      <td>False</td>\n",
              "      <td>False</td>\n",
              "      <td>False</td>\n",
              "      <td>False</td>\n",
              "    </tr>\n",
              "    <tr>\n",
              "      <th>90185</th>\n",
              "      <td>False</td>\n",
              "      <td>False</td>\n",
              "      <td>False</td>\n",
              "      <td>False</td>\n",
              "      <td>False</td>\n",
              "    </tr>\n",
              "    <tr>\n",
              "      <th>90186</th>\n",
              "      <td>False</td>\n",
              "      <td>False</td>\n",
              "      <td>False</td>\n",
              "      <td>False</td>\n",
              "      <td>False</td>\n",
              "    </tr>\n",
              "    <tr>\n",
              "      <th>90187</th>\n",
              "      <td>False</td>\n",
              "      <td>False</td>\n",
              "      <td>False</td>\n",
              "      <td>False</td>\n",
              "      <td>False</td>\n",
              "    </tr>\n",
              "    <tr>\n",
              "      <th>90188</th>\n",
              "      <td>False</td>\n",
              "      <td>False</td>\n",
              "      <td>False</td>\n",
              "      <td>False</td>\n",
              "      <td>False</td>\n",
              "    </tr>\n",
              "  </tbody>\n",
              "</table>\n",
              "<p>90189 rows × 5 columns</p>\n",
              "</div>"
            ],
            "text/plain": [
              "       userid  version  sum_gamerounds  retention_1  retention_7\n",
              "0       False    False           False        False        False\n",
              "1       False    False           False        False        False\n",
              "2       False    False           False        False        False\n",
              "3       False    False           False        False        False\n",
              "4       False    False           False        False        False\n",
              "...       ...      ...             ...          ...          ...\n",
              "90184   False    False           False        False        False\n",
              "90185   False    False           False        False        False\n",
              "90186   False    False           False        False        False\n",
              "90187   False    False           False        False        False\n",
              "90188   False    False           False        False        False\n",
              "\n",
              "[90189 rows x 5 columns]"
            ]
          },
          "metadata": {},
          "execution_count": 3
        }
      ]
    },
    {
      "cell_type": "markdown",
      "metadata": {
        "id": "tMU_kjsiiSZs"
      },
      "source": [
        "### Q1.2 Identify outliers"
      ]
    },
    {
      "cell_type": "code",
      "metadata": {
        "id": "IMwNE8XBiSZt",
        "colab": {
          "base_uri": "https://localhost:8080/",
          "height": 312
        },
        "outputId": "4cfd0a1b-0aa0-48e8-b86e-319e39968eef"
      },
      "source": [
        "#Check for outlier values in sum_gamerounds column\n",
        "plt.title(\"Total gamerounds played\")\n",
        "plt.xlabel(\"Index\")\n",
        "plt.ylabel(\"sum_gamerounds\")\n",
        "plt.plot(user_df.sum_gamerounds)"
      ],
      "execution_count": null,
      "outputs": [
        {
          "output_type": "execute_result",
          "data": {
            "text/plain": [
              "Text(0.5, 1.0, 'Total gamerounds played')"
            ]
          },
          "metadata": {},
          "execution_count": 5
        },
        {
          "output_type": "execute_result",
          "data": {
            "text/plain": [
              "Text(0.5, 0, 'Index')"
            ]
          },
          "metadata": {},
          "execution_count": 5
        },
        {
          "output_type": "execute_result",
          "data": {
            "text/plain": [
              "Text(0, 0.5, 'sum_gamerounds')"
            ]
          },
          "metadata": {},
          "execution_count": 5
        },
        {
          "output_type": "execute_result",
          "data": {
            "text/plain": [
              "[<matplotlib.lines.Line2D at 0x7f39d731bd50>]"
            ]
          },
          "metadata": {},
          "execution_count": 5
        },
        {
          "output_type": "display_data",
          "data": {
            "image/png": "[encoded data removed]",
            "text/plain": [
              "<Figure size 432x288 with 1 Axes>"
            ]
          },
          "metadata": {
            "needs_background": "light"
          }
        }
      ]
    },
    {
      "cell_type": "code",
      "metadata": {
        "id": "XOdf6IaOiSZt",
        "colab": {
          "base_uri": "https://localhost:8080/",
          "height": 441
        },
        "outputId": "6b83a758-31c9-4827-9f57-65ab2eef6ece"
      },
      "source": [
        "#Based on the plot, filter out the outlier from sum_gamerounds played; Use max() fucntion to find the index of the outlier\n",
        "r1=user_df['sum_gamerounds'].max()\n",
        "r1\n",
        "r2=user_df.index[user_df['sum_gamerounds'] == r1]\n",
        "r2\n",
        "#Filtering the outlier\n",
        "user_df=user_df.drop([user_df.index[57702]])\n",
        "user_df"
      ],
      "execution_count": null,
      "outputs": [
        {
          "output_type": "execute_result",
          "data": {
            "text/plain": [
              "2961"
            ]
          },
          "metadata": {},
          "execution_count": 17
        },
        {
          "output_type": "execute_result",
          "data": {
            "text/plain": [
              "Int64Index([7912], dtype='int64')"
            ]
          },
          "metadata": {},
          "execution_count": 17
        },
        {
          "output_type": "execute_result",
          "data": {
            "text/html": [
              "<div>\n",
              "<style scoped>\n",
              "    .dataframe tbody tr th:only-of-type {\n",
              "        vertical-align: middle;\n",
              "    }\n",
              "\n",
              "    .dataframe tbody tr th {\n",
              "        vertical-align: top;\n",
              "    }\n",
              "\n",
              "    .dataframe thead th {\n",
              "        text-align: right;\n",
              "    }\n",
              "</style>\n",
              "<table border=\"1\" class=\"dataframe\">\n",
              "  <thead>\n",
              "    <tr style=\"text-align: right;\">\n",
              "      <th></th>\n",
              "      <th>userid</th>\n",
              "      <th>version</th>\n",
              "      <th>sum_gamerounds</th>\n",
              "      <th>retention_1</th>\n",
              "      <th>retention_7</th>\n",
              "    </tr>\n",
              "  </thead>\n",
              "  <tbody>\n",
              "    <tr>\n",
              "      <th>0</th>\n",
              "      <td>116</td>\n",
              "      <td>gate_30</td>\n",
              "      <td>3</td>\n",
              "      <td>False</td>\n",
              "      <td>False</td>\n",
              "    </tr>\n",
              "    <tr>\n",
              "      <th>1</th>\n",
              "      <td>337</td>\n",
              "      <td>gate_30</td>\n",
              "      <td>38</td>\n",
              "      <td>True</td>\n",
              "      <td>False</td>\n",
              "    </tr>\n",
              "    <tr>\n",
              "      <th>2</th>\n",
              "      <td>377</td>\n",
              "      <td>gate_40</td>\n",
              "      <td>165</td>\n",
              "      <td>True</td>\n",
              "      <td>False</td>\n",
              "    </tr>\n",
              "    <tr>\n",
              "      <th>3</th>\n",
              "      <td>483</td>\n",
              "      <td>gate_40</td>\n",
              "      <td>1</td>\n",
              "      <td>False</td>\n",
              "      <td>False</td>\n",
              "    </tr>\n",
              "    <tr>\n",
              "      <th>4</th>\n",
              "      <td>488</td>\n",
              "      <td>gate_40</td>\n",
              "      <td>179</td>\n",
              "      <td>True</td>\n",
              "      <td>True</td>\n",
              "    </tr>\n",
              "    <tr>\n",
              "      <th>...</th>\n",
              "      <td>...</td>\n",
              "      <td>...</td>\n",
              "      <td>...</td>\n",
              "      <td>...</td>\n",
              "      <td>...</td>\n",
              "    </tr>\n",
              "    <tr>\n",
              "      <th>90184</th>\n",
              "      <td>9999441</td>\n",
              "      <td>gate_40</td>\n",
              "      <td>97</td>\n",
              "      <td>True</td>\n",
              "      <td>False</td>\n",
              "    </tr>\n",
              "    <tr>\n",
              "      <th>90185</th>\n",
              "      <td>9999479</td>\n",
              "      <td>gate_40</td>\n",
              "      <td>30</td>\n",
              "      <td>False</td>\n",
              "      <td>False</td>\n",
              "    </tr>\n",
              "    <tr>\n",
              "      <th>90186</th>\n",
              "      <td>9999710</td>\n",
              "      <td>gate_30</td>\n",
              "      <td>28</td>\n",
              "      <td>True</td>\n",
              "      <td>False</td>\n",
              "    </tr>\n",
              "    <tr>\n",
              "      <th>90187</th>\n",
              "      <td>9999768</td>\n",
              "      <td>gate_40</td>\n",
              "      <td>51</td>\n",
              "      <td>True</td>\n",
              "      <td>False</td>\n",
              "    </tr>\n",
              "    <tr>\n",
              "      <th>90188</th>\n",
              "      <td>9999861</td>\n",
              "      <td>gate_40</td>\n",
              "      <td>16</td>\n",
              "      <td>False</td>\n",
              "      <td>False</td>\n",
              "    </tr>\n",
              "  </tbody>\n",
              "</table>\n",
              "<p>90185 rows × 5 columns</p>\n",
              "</div>"
            ],
            "text/plain": [
              "        userid  version  sum_gamerounds  retention_1  retention_7\n",
              "0          116  gate_30               3        False        False\n",
              "1          337  gate_30              38         True        False\n",
              "2          377  gate_40             165         True        False\n",
              "3          483  gate_40               1        False        False\n",
              "4          488  gate_40             179         True         True\n",
              "...        ...      ...             ...          ...          ...\n",
              "90184  9999441  gate_40              97         True        False\n",
              "90185  9999479  gate_40              30        False        False\n",
              "90186  9999710  gate_30              28         True        False\n",
              "90187  9999768  gate_40              51         True        False\n",
              "90188  9999861  gate_40              16        False        False\n",
              "\n",
              "[90185 rows x 5 columns]"
            ]
          },
          "metadata": {},
          "execution_count": 17
        }
      ]
    },
    {
      "cell_type": "code",
      "metadata": {
        "id": "7_9eQe7riSZt",
        "colab": {
          "base_uri": "https://localhost:8080/",
          "height": 312
        },
        "outputId": "172e16e2-8928-4ee1-aa26-0a56179c5fb1"
      },
      "source": [
        "#Plot the graph for sum_gamerounds player after removing the outlier\n",
        "plt.title(\"Total gamerounds played\")\n",
        "plt.xlabel(\"Index\")\n",
        "plt.ylabel(\"sum_gamerounds\")\n",
        "plt.plot(user_df.sum_gamerounds)"
      ],
      "execution_count": null,
      "outputs": [
        {
          "output_type": "execute_result",
          "data": {
            "text/plain": [
              "Text(0.5, 1.0, 'Total gamerounds played')"
            ]
          },
          "metadata": {},
          "execution_count": 18
        },
        {
          "output_type": "execute_result",
          "data": {
            "text/plain": [
              "Text(0.5, 0, 'Index')"
            ]
          },
          "metadata": {},
          "execution_count": 18
        },
        {
          "output_type": "execute_result",
          "data": {
            "text/plain": [
              "Text(0, 0.5, 'sum_gamerounds')"
            ]
          },
          "metadata": {},
          "execution_count": 18
        },
        {
          "output_type": "execute_result",
          "data": {
            "text/plain": [
              "[<matplotlib.lines.Line2D at 0x7f39d595a850>]"
            ]
          },
          "metadata": {},
          "execution_count": 18
        },
        {
          "output_type": "display_data",
          "data": {
            "image/png": "[encoded data removed]",
            "text/plain": [
              "<Figure size 432x288 with 1 Axes>"
            ]
          },
          "metadata": {
            "needs_background": "light"
          }
        }
      ]
    },
    {
      "cell_type": "markdown",
      "metadata": {
        "id": "MRUPfPr9iSZt"
      },
      "source": [
        "## Q2. Plot summary statistics and identify trends to answer basis business questions"
      ]
    },
    {
      "cell_type": "markdown",
      "metadata": {
        "id": "4-Ah9dqQiSZt"
      },
      "source": [
        "### Q2.1 What is the overall 7-day retention rate of the game?"
      ]
    },
    {
      "cell_type": "code",
      "metadata": {
        "id": "hHykqZ3YiSZu",
        "colab": {
          "base_uri": "https://localhost:8080/"
        },
        "outputId": "1b84f0d4-a990-4144-e884-8182e298ef79"
      },
      "source": [
        "#Insert calculation for 7-day retention rate\n",
        "\n",
        "retention_rate_7 = (user_df['retention_7'].mean())*100\n",
        "print(\"Overal 7 days retention rate of the game for both versions is: \" ,retention_rate_7,\"%\")\n"
      ],
      "execution_count": null,
      "outputs": [
        {
          "output_type": "stream",
          "name": "stdout",
          "text": [
            "Overal 7 days retention rate of the game for both versions is:  18.60557945624695 %\n"
          ]
        }
      ]
    },
    {
      "cell_type": "markdown",
      "metadata": {
        "id": "5okbyesoiSZu"
      },
      "source": [
        "### Q2.2 How many players never played the game after installing? "
      ]
    },
    {
      "cell_type": "code",
      "metadata": {
        "id": "goO-ALhkiSZu",
        "colab": {
          "base_uri": "https://localhost:8080/"
        },
        "outputId": "84ca0a17-4fed-4110-a9ca-fc78b0d9ae87"
      },
      "source": [
        "# Find number of customers with sum_gamerounds is equal to zero\n",
        "\n",
        "count= user_df['sum_gamerounds'][user_df.sum_gamerounds==0].count()\n",
        "count"
      ],
      "execution_count": null,
      "outputs": [
        {
          "output_type": "execute_result",
          "data": {
            "text/plain": [
              "3993"
            ]
          },
          "metadata": {},
          "execution_count": 19
        }
      ]
    },
    {
      "cell_type": "markdown",
      "metadata": {
        "id": "EVEICqddiSZu"
      },
      "source": [
        "### Q2.3 Does the number of users decrease as the level progresses highlighting the difficulty of the game?"
      ]
    },
    {
      "cell_type": "code",
      "metadata": {
        "id": "zxwwafgFiSZu",
        "colab": {
          "base_uri": "https://localhost:8080/",
          "height": 750
        },
        "outputId": "2dfceb6d-40af-4f05-cd59-ee85868bd921"
      },
      "source": [
        "#Group by sum_gamerounds and count the number of users for the first 200 gamerounds\n",
        "#Use plot() function on the summarized stats to visualize the chart\n",
        "\n",
        "df_new = user_df.groupby('sum_gamerounds').count().iloc[0:200, 3: ]\n",
        "display(df_new)\n",
        "plt.title(\"First 200 gamerounds stats\")\n",
        "plt.xlabel(\"Gameround\")\n",
        "plt.ylabel(\"No.of users\")\n",
        "plt.plot(df_new.index,df_new.retention_7)"
      ],
      "execution_count": null,
      "outputs": [
        {
          "output_type": "display_data",
          "data": {
            "text/html": [
              "<div>\n",
              "<style scoped>\n",
              "    .dataframe tbody tr th:only-of-type {\n",
              "        vertical-align: middle;\n",
              "    }\n",
              "\n",
              "    .dataframe tbody tr th {\n",
              "        vertical-align: top;\n",
              "    }\n",
              "\n",
              "    .dataframe thead th {\n",
              "        text-align: right;\n",
              "    }\n",
              "</style>\n",
              "<table border=\"1\" class=\"dataframe\">\n",
              "  <thead>\n",
              "    <tr style=\"text-align: right;\">\n",
              "      <th></th>\n",
              "      <th>retention_7</th>\n",
              "    </tr>\n",
              "    <tr>\n",
              "      <th>sum_gamerounds</th>\n",
              "      <th></th>\n",
              "    </tr>\n",
              "  </thead>\n",
              "  <tbody>\n",
              "    <tr>\n",
              "      <th>0</th>\n",
              "      <td>3993</td>\n",
              "    </tr>\n",
              "    <tr>\n",
              "      <th>1</th>\n",
              "      <td>5538</td>\n",
              "    </tr>\n",
              "    <tr>\n",
              "      <th>2</th>\n",
              "      <td>4606</td>\n",
              "    </tr>\n",
              "    <tr>\n",
              "      <th>3</th>\n",
              "      <td>3958</td>\n",
              "    </tr>\n",
              "    <tr>\n",
              "      <th>4</th>\n",
              "      <td>3629</td>\n",
              "    </tr>\n",
              "    <tr>\n",
              "      <th>...</th>\n",
              "      <td>...</td>\n",
              "    </tr>\n",
              "    <tr>\n",
              "      <th>195</th>\n",
              "      <td>43</td>\n",
              "    </tr>\n",
              "    <tr>\n",
              "      <th>196</th>\n",
              "      <td>46</td>\n",
              "    </tr>\n",
              "    <tr>\n",
              "      <th>197</th>\n",
              "      <td>39</td>\n",
              "    </tr>\n",
              "    <tr>\n",
              "      <th>198</th>\n",
              "      <td>37</td>\n",
              "    </tr>\n",
              "    <tr>\n",
              "      <th>199</th>\n",
              "      <td>46</td>\n",
              "    </tr>\n",
              "  </tbody>\n",
              "</table>\n",
              "<p>200 rows × 1 columns</p>\n",
              "</div>"
            ],
            "text/plain": [
              "                retention_7\n",
              "sum_gamerounds             \n",
              "0                      3993\n",
              "1                      5538\n",
              "2                      4606\n",
              "3                      3958\n",
              "4                      3629\n",
              "...                     ...\n",
              "195                      43\n",
              "196                      46\n",
              "197                      39\n",
              "198                      37\n",
              "199                      46\n",
              "\n",
              "[200 rows x 1 columns]"
            ]
          },
          "metadata": {}
        },
        {
          "output_type": "execute_result",
          "data": {
            "text/plain": [
              "Text(0.5, 1.0, 'First 200 gamerounds stats')"
            ]
          },
          "metadata": {},
          "execution_count": 21
        },
        {
          "output_type": "execute_result",
          "data": {
            "text/plain": [
              "Text(0.5, 0, 'Gameround')"
            ]
          },
          "metadata": {},
          "execution_count": 21
        },
        {
          "output_type": "execute_result",
          "data": {
            "text/plain": [
              "Text(0, 0.5, 'No.of users')"
            ]
          },
          "metadata": {},
          "execution_count": 21
        },
        {
          "output_type": "execute_result",
          "data": {
            "text/plain": [
              "[<matplotlib.lines.Line2D at 0x7f39d591a2d0>]"
            ]
          },
          "metadata": {},
          "execution_count": 21
        },
        {
          "output_type": "display_data",
          "data": {
            "image/png": "[encoded data removed]",
            "text/plain": [
              "<Figure size 432x288 with 1 Axes>"
            ]
          },
          "metadata": {
            "needs_background": "light"
          }
        }
      ]
    },
    {
      "cell_type": "markdown",
      "metadata": {
        "id": "DcyQYU-tiSZu"
      },
      "source": [
        "## Q3. Generate crosstab for two groups of players to understand if there is a difference in 7 days retention rate & total number of game rounds played"
      ]
    },
    {
      "cell_type": "markdown",
      "metadata": {
        "id": "2w7GpBd8iSZu"
      },
      "source": [
        "### Q3.1 Seven days retention rate summary for different game versions"
      ]
    },
    {
      "cell_type": "code",
      "metadata": {
        "id": "-t8DdMxBiSZu",
        "colab": {
          "base_uri": "https://localhost:8080/",
          "height": 143
        },
        "outputId": "9243b7e7-15bb-484a-f5c6-73679f65dea5"
      },
      "source": [
        "#Create cross tab for game version and retention_7 flag counting number of users for each possible categories\n",
        "\n",
        "pd.crosstab(user_df.version, user_df.retention_7).apply(lambda r: r/r.sum(), axis=1)"
      ],
      "execution_count": null,
      "outputs": [
        {
          "output_type": "execute_result",
          "data": {
            "text/html": [
              "<div>\n",
              "<style scoped>\n",
              "    .dataframe tbody tr th:only-of-type {\n",
              "        vertical-align: middle;\n",
              "    }\n",
              "\n",
              "    .dataframe tbody tr th {\n",
              "        vertical-align: top;\n",
              "    }\n",
              "\n",
              "    .dataframe thead th {\n",
              "        text-align: right;\n",
              "    }\n",
              "</style>\n",
              "<table border=\"1\" class=\"dataframe\">\n",
              "  <thead>\n",
              "    <tr style=\"text-align: right;\">\n",
              "      <th>retention_7</th>\n",
              "      <th>False</th>\n",
              "      <th>True</th>\n",
              "    </tr>\n",
              "    <tr>\n",
              "      <th>version</th>\n",
              "      <th></th>\n",
              "      <th></th>\n",
              "    </tr>\n",
              "  </thead>\n",
              "  <tbody>\n",
              "    <tr>\n",
              "      <th>gate_30</th>\n",
              "      <td>0.809808</td>\n",
              "      <td>0.190192</td>\n",
              "    </tr>\n",
              "    <tr>\n",
              "      <th>gate_40</th>\n",
              "      <td>0.817996</td>\n",
              "      <td>0.182004</td>\n",
              "    </tr>\n",
              "  </tbody>\n",
              "</table>\n",
              "</div>"
            ],
            "text/plain": [
              "retention_7     False     True \n",
              "version                        \n",
              "gate_30      0.809808  0.190192\n",
              "gate_40      0.817996  0.182004"
            ]
          },
          "metadata": {},
          "execution_count": 22
        }
      ]
    },
    {
      "cell_type": "markdown",
      "metadata": {
        "id": "aL9bwkcpiSZv"
      },
      "source": [
        "<mark>__Analsysis Results:__\n",
        "    \n",
        "For gate_40 7 day retention rate is lower compared to gate_30.   "
      ]
    },
    {
      "cell_type": "markdown",
      "metadata": {
        "id": "62ZIlfh1iSZv"
      },
      "source": [
        "### Q3.2 Gamerounds summary for different game versions"
      ]
    },
    {
      "cell_type": "code",
      "metadata": {
        "id": "BCyf0Q5eiSZv",
        "colab": {
          "base_uri": "https://localhost:8080/",
          "height": 143
        },
        "outputId": "c83ec4a8-eaed-4c1c-c789-25eeb30d8877"
      },
      "source": [
        "#use pandas group by to calculate average game rounds played summarized by different versions\n",
        "df_new = user_df.groupby('version').mean().iloc[:, 1:2 ]\n",
        "df_new\n",
        "\n"
      ],
      "execution_count": null,
      "outputs": [
        {
          "output_type": "execute_result",
          "data": {
            "text/html": [
              "<div>\n",
              "<style scoped>\n",
              "    .dataframe tbody tr th:only-of-type {\n",
              "        vertical-align: middle;\n",
              "    }\n",
              "\n",
              "    .dataframe tbody tr th {\n",
              "        vertical-align: top;\n",
              "    }\n",
              "\n",
              "    .dataframe thead th {\n",
              "        text-align: right;\n",
              "    }\n",
              "</style>\n",
              "<table border=\"1\" class=\"dataframe\">\n",
              "  <thead>\n",
              "    <tr style=\"text-align: right;\">\n",
              "      <th></th>\n",
              "      <th>sum_gamerounds</th>\n",
              "    </tr>\n",
              "    <tr>\n",
              "      <th>version</th>\n",
              "      <th></th>\n",
              "    </tr>\n",
              "  </thead>\n",
              "  <tbody>\n",
              "    <tr>\n",
              "      <th>gate_30</th>\n",
              "      <td>51.342305</td>\n",
              "    </tr>\n",
              "    <tr>\n",
              "      <th>gate_40</th>\n",
              "      <td>51.299903</td>\n",
              "    </tr>\n",
              "  </tbody>\n",
              "</table>\n",
              "</div>"
            ],
            "text/plain": [
              "         sum_gamerounds\n",
              "version                \n",
              "gate_30       51.342305\n",
              "gate_40       51.299903"
            ]
          },
          "metadata": {},
          "execution_count": 23
        }
      ]
    },
    {
      "cell_type": "markdown",
      "metadata": {
        "id": "DP5BIJZyiSZv"
      },
      "source": [
        "<mark>__Analsysis Results:__\n",
        "    \n",
        "Do total number of gamerounds played in total by each player differ based on  different versions of the game? \n",
        "\n",
        "Answer: No. The average no.of game rounds played are almost same in both the versions."
      ]
    },
    {
      "cell_type": "markdown",
      "metadata": {
        "id": "HdEYjtfpiSZv"
      },
      "source": [
        "## Q4. Perform two-sample test for groups A and B to test statistical significance amongst the groups in the sum of game rounds played i.e., if groups A and B are statistically different"
      ]
    },
    {
      "cell_type": "markdown",
      "metadata": {
        "id": "3ydc-t8WiSZw"
      },
      "source": [
        "### Initial data processing"
      ]
    },
    {
      "cell_type": "code",
      "metadata": {
        "id": "YtgXXq93iSZw",
        "colab": {
          "base_uri": "https://localhost:8080/",
          "height": 434
        },
        "outputId": "dd8cc1d7-f021-473c-eba8-221fe53d39d8"
      },
      "source": [
        "#Define A/B groups for hypothesis testing\n",
        "#user_df[\"version\"] = np.where(user_df.version == \"gate_30\", \"A\", \"B\")\n",
        "user_df[\"version\"] = np.where(user_df.version == \"gate_30\", \"A\", \"B\")\n",
        "group_A=user_df[user_df.version==\"A\"]['sum_gamerounds']\n",
        "group_B=user_df[user_df.version==\"B\"]['sum_gamerounds']\n",
        "display(group_A)\n",
        "display(group_B)"
      ],
      "execution_count": null,
      "outputs": [
        {
          "output_type": "display_data",
          "data": {
            "text/plain": [
              "0         3\n",
              "1        38\n",
              "6         0\n",
              "11        0\n",
              "13       39\n",
              "         ..\n",
              "90179    14\n",
              "90180     7\n",
              "90182    21\n",
              "90183    10\n",
              "90186    28\n",
              "Name: sum_gamerounds, Length: 44697, dtype: int64"
            ]
          },
          "metadata": {}
        },
        {
          "output_type": "display_data",
          "data": {
            "text/plain": [
              "2        165\n",
              "3          1\n",
              "4        179\n",
              "5        187\n",
              "7          2\n",
              "        ... \n",
              "90181     10\n",
              "90184     97\n",
              "90185     30\n",
              "90187     51\n",
              "90188     16\n",
              "Name: sum_gamerounds, Length: 45488, dtype: int64"
            ]
          },
          "metadata": {}
        }
      ]
    },
    {
      "cell_type": "markdown",
      "metadata": {
        "id": "zlyeTKiTiSZw"
      },
      "source": [
        "### Q4.1 Shapiro test of Normality"
      ]
    },
    {
      "cell_type": "code",
      "metadata": {
        "id": "tXsSQmHdiSZw",
        "colab": {
          "base_uri": "https://localhost:8080/"
        },
        "outputId": "211374a6-f47c-43f9-9e49-e06e787c20de"
      },
      "source": [
        "#---------------------- Shapiro Test ----------------------\n",
        "# NULL Hypothesis H0: Distribution is normal\n",
        "# ALTERNATE Hypothesis H1: Distribution is not normal    \n",
        "\n",
        "#test for group_A\n",
        "A_p = shapiro(group_A)[1]\n",
        "  \n",
        "#test for group_B\n",
        "B_p = shapiro(group_B)[1]\n",
        "print(A_p)\n",
        "print(B_p)"
      ],
      "execution_count": null,
      "outputs": [
        {
          "output_type": "stream",
          "name": "stdout",
          "text": [
            "0.0\n",
            "0.0\n"
          ]
        }
      ]
    },
    {
      "cell_type": "markdown",
      "metadata": {
        "id": "AOQIRsuAiSZw"
      },
      "source": [
        "<mark>__Analsysis Results:__\n",
        "    \n",
        "__Type your answer here:__ Analyze and interpret the results of shapiro test of normality i.e. are the two groups normally distributed?\n",
        "\n",
        "Answer: No the Shapiro test shows the p-value for both Groups A & B as 0 which is less than 0.5. Hence we discard the null hypothesis, as distribution is not normal"
      ]
    },
    {
      "cell_type": "markdown",
      "metadata": {
        "id": "q4o9AOd7iSZx"
      },
      "source": [
        "### Q4.2 Test of homegienity of variance"
      ]
    },
    {
      "cell_type": "code",
      "metadata": {
        "id": "mrziVdBNiSZx",
        "colab": {
          "base_uri": "https://localhost:8080/"
        },
        "outputId": "5e6ccb60-11e4-41bb-a6d9-d546fce0063f"
      },
      "source": [
        "#---------------------- Leven's Test ----------------------\n",
        "# NULL Hypothesis H0: Two groups have equal variances\n",
        "# ALTERNATE Hypothesis H1: Two groups do not have equal variances\n",
        "\n",
        "#perform levene's test and accept or reject the null hypothesis based on the results\n",
        "\n",
        "leveneTest = stats.levene(group_A, group_B)[1]\n",
        "print(leveneTest)\n"
      ],
      "execution_count": null,
      "outputs": [
        {
          "output_type": "stream",
          "name": "stdout",
          "text": [
            "0.7835755700632903\n"
          ]
        }
      ]
    },
    {
      "cell_type": "markdown",
      "metadata": {
        "id": "LwTNd1VPiSZx"
      },
      "source": [
        "<mark>__Analsysis Results:__\n",
        "    \n",
        "__Type your answer here:__ Write your final recommendation from the results of Levene's test\n",
        "\n",
        "Answer: Since the p-value is greater than 0.5, the Levene test accepts the Null hypothesis, that both group A & B have equal variances."
      ]
    },
    {
      "cell_type": "markdown",
      "metadata": {
        "id": "uWPsJfKPiSZy"
      },
      "source": [
        "### Q4.3 Test of significance: Two sample test"
      ]
    },
    {
      "cell_type": "code",
      "metadata": {
        "id": "l7nqj4X5iSZz",
        "colab": {
          "base_uri": "https://localhost:8080/"
        },
        "outputId": "8a10dab1-220c-4db1-a8b0-f31ec2f50cd6"
      },
      "source": [
        "#---------------------- Two samples test ----------------------\n",
        "# NULL Hypothesis H0: Two samples are equal\n",
        "# ALTERNATE Hypothesis H1: Two samples are different\n",
        "\n",
        "#Apply relevant two sample test to accept or reject the NULL hypothesis\n",
        "ttest = stats.ttest_ind(group_A, group_B, equal_var=True)[1]\n",
        "ttest\n",
        "\n"
      ],
      "execution_count": null,
      "outputs": [
        {
          "output_type": "execute_result",
          "data": {
            "text/plain": [
              "0.9505623808014929"
            ]
          },
          "metadata": {},
          "execution_count": 27
        }
      ]
    },
    {
      "cell_type": "markdown",
      "metadata": {
        "id": "kE7uFYGSiSZz"
      },
      "source": [
        "<mark>__Analsysis Results:__\n",
        "    \n",
        "__Type your answer here:__ Write your final recommendation from the results of two sample hyothesis testing\n",
        "\n",
        "Answer: Since the p-valuue obtained from Two sample test is greater than 0.5, we can accept the Null hypothesis that both samples are equal"
      ]
    },
    {
      "cell_type": "markdown",
      "metadata": {
        "id": "AJRShYQFiSZz"
      },
      "source": [
        "## Q5. Based on significance testing results, if groups A and B are statistically different, which level has more advantage in terms of player retention and number of game rounds played"
      ]
    },
    {
      "cell_type": "code",
      "metadata": {
        "id": "1d_q6KSxiSZz",
        "colab": {
          "base_uri": "https://localhost:8080/",
          "height": 156
        },
        "outputId": "ac413ddd-80a9-44fd-860f-8809062d0d03"
      },
      "source": [
        "#Analyze the 1 day and 7 days retention rate for two different groups using group by function\n",
        "\n",
        "One_Day=user_df.groupby(\"version\").retention_1.mean()\n",
        "Seven_Day=user_df.groupby(\"version\").retention_7.mean()\n",
        "display(One_Day)\n",
        "display(Seven_Day)\n"
      ],
      "execution_count": null,
      "outputs": [
        {
          "output_type": "display_data",
          "data": {
            "text/plain": [
              "version\n",
              "A    0.448196\n",
              "B    0.442292\n",
              "Name: retention_1, dtype: float64"
            ]
          },
          "metadata": {}
        },
        {
          "output_type": "display_data",
          "data": {
            "text/plain": [
              "version\n",
              "A    0.190192\n",
              "B    0.182004\n",
              "Name: retention_7, dtype: float64"
            ]
          },
          "metadata": {}
        }
      ]
    },
    {
      "cell_type": "markdown",
      "metadata": {
        "id": "eNFy8DxGiSZz"
      },
      "source": [
        "<mark>__Analsysis Results:__\n",
        "    \n",
        "__Type your answer here:__ Write your final recommendation to the company regarding which level works best as the first gate  - Level 30 or Level 40\n",
        "\n",
        "Answer: From the above results 1-day and 7-day average retention are higher for version A, i.e when the gate is at Level 30 than when it is at Level 40. Hence it is preferable to keep the gate at Level 30."
      ]
    },
    {
      "cell_type": "markdown",
      "metadata": {
        "id": "GFeU6V0kiSZ0"
      },
      "source": [
        "## Q6. [Bonus Question]  Using bootstrap resampling, plot the retention rate distribution for both the groups inorder to visualize effect of different version of the game on retention."
      ]
    },
    {
      "cell_type": "code",
      "metadata": {
        "id": "jGW6O6jOiSZ0",
        "colab": {
          "base_uri": "https://localhost:8080/",
          "height": 298
        },
        "outputId": "0f99686b-7eeb-48ca-b80b-30273565888c"
      },
      "source": [
        "#Hint: Plot density function\n",
        "#1 Day\n",
        "plot_1d = []\n",
        "#Resampling\n",
        "for i in range(500):\n",
        "    mean = user_df.sample(frac=1,replace=True).groupby('version')['retention_1'].mean()\n",
        "    plot_1d.append(mean)\n",
        "    \n",
        "# Transforming the list to a DataFrame\n",
        "plot_1d = pd.DataFrame(plot_1d)\n",
        "  \n",
        "# A Kernel Density Estimate plot of the distributions\n",
        "plot_1d.plot.kde(title=\"One Day Retention\")"
      ],
      "execution_count": null,
      "outputs": [
        {
          "output_type": "execute_result",
          "data": {
            "text/plain": [
              "<matplotlib.axes._subplots.AxesSubplot at 0x7f39d5828390>"
            ]
          },
          "metadata": {},
          "execution_count": 34
        },
        {
          "output_type": "display_data",
          "data": {
            "image/png": "[encoded data removed]",
            "text/plain": [
              "<Figure size 432x288 with 1 Axes>"
            ]
          },
          "metadata": {
            "needs_background": "light"
          }
        }
      ]
    },
    {
      "cell_type": "code",
      "metadata": {
        "colab": {
          "base_uri": "https://localhost:8080/",
          "height": 298
        },
        "id": "1KdNbcZrNvpB",
        "outputId": "16d9c78f-d177-4520-ae9b-7d7eab976a66"
      },
      "source": [
        "#7 Day\n",
        "plot_7d = []\n",
        "#Resampling\n",
        "for i in range(500):\n",
        "    mean = user_df.sample(frac=1,replace=True).groupby('version')['retention_7'].mean()\n",
        "    plot_7d.append(mean)\n",
        "    \n",
        "# Transforming the list to a DataFrame\n",
        "plot_7d = pd.DataFrame(plot_7d)\n",
        "  \n",
        "# A Kernel Density Estimate plot of the distributions\n",
        "plot_7d.plot.kde(title=\"Seven Day Retention\")"
      ],
      "execution_count": null,
      "outputs": [
        {
          "output_type": "execute_result",
          "data": {
            "text/plain": [
              "<matplotlib.axes._subplots.AxesSubplot at 0x7f39d56e9890>"
            ]
          },
          "metadata": {},
          "execution_count": 35
        },
        {
          "output_type": "display_data",
          "data": {
            "image/png": "[encoded data removed]",
            "text/plain": [
              "<Figure size 432x288 with 1 Axes>"
            ]
          },
          "metadata": {
            "needs_background": "light"
          }
        }
      ]
    }
  ]
}