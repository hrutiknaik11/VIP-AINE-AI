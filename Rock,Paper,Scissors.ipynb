{
  "nbformat": 4,
  "nbformat_minor": 0,
  "metadata": {
    "colab": {
      "name": "Rock,Paper,Scissorsipynb",
      "provenance": []
    },
    "kernelspec": {
      "name": "python3",
      "display_name": "Python 3"
    },
    "language_info": {
      "name": "python"
    }
  },
  "cells": [
    {
      "cell_type": "code",
      "metadata": {
        "id": "-AHyqJkrp0L8"
      },
      "source": [
        "#Importing randint from random to randomise the moves against the input\n",
        "from random import randint"
      ],
      "execution_count": 1,
      "outputs": []
    },
    {
      "cell_type": "code",
      "metadata": {
        "id": "hE_YStp7p98u"
      },
      "source": [
        "#Creating a list with the game options.\n",
        "t = [\"Rock\", \"Paper\", \"Scissors\"]\n",
        "\n",
        "#Assigning random move to the computer\n",
        "computer = t[randint(0,2)]\n",
        "\n",
        "#Setting player to False\n",
        "player = False"
      ],
      "execution_count": 2,
      "outputs": []
    },
    {
      "cell_type": "code",
      "metadata": {
        "colab": {
          "base_uri": "https://localhost:8080/"
        },
        "id": "Og3H38f2p-F9",
        "outputId": "a994ba10-510c-4ac2-dba9-12a50cfe6d7a"
      },
      "source": [
        "#Implementing While loop to execeute the game\n",
        "while player == False:\n",
        "#Setting Player to True\n",
        "    player = input(\"Rock, Paper, Scissors?\")\n",
        "    if player == computer:\n",
        "        print(\"Tie!\")\n",
        "    elif player == \"Rock\":\n",
        "        if computer == \"Paper\":\n",
        "            print(\"You lose!\", computer, \"covers\", player)\n",
        "        else:\n",
        "            print(\"You win!\", player, \"smashes\", computer)\n",
        "    elif player == \"Paper\":\n",
        "        if computer == \"Scissors\":\n",
        "            print(\"You lose!\", computer, \"cut\", player)\n",
        "        else:\n",
        "            print(\"You win!\", player, \"covers\", computer)\n",
        "    elif player == \"Scissors\":\n",
        "        if computer == \"Rock\":\n",
        "            print(\"You lose...\", computer, \"smashes\", player)\n",
        "        else:\n",
        "            print(\"You win!\", player, \"cut\", computer)\n",
        "    else:\n",
        "        print(\"That's not a valid play. Check your spelling!\")\n",
        "    #Player variable was set to True, but we want it to be False so the loop continues\n",
        "    player = False\n",
        "    computer = t[randint(0,2)]"
      ],
      "execution_count": null,
      "outputs": [
        {
          "output_type": "stream",
          "name": "stdout",
          "text": [
            "Rock, Paper, Scissors?Rock\n",
            "You lose! Paper covers Rock\n",
            "Rock, Paper, Scissors?Paper\n",
            "You win! Paper covers Rock\n"
          ]
        }
      ]
    }
  ]
}