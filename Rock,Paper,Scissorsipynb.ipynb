{
  "nbformat": 4,
  "nbformat_minor": 0,
  "metadata": {
    "colab": {
      "name": "Rock,Paper,Scissorsipynb",
      "provenance": []
    },
    "kernelspec": {
      "name": "python3",
      "display_name": "Python 3"
    },
    "language_info": {
      "name": "python"
    }
  },
  "cells": [
    {
      "cell_type": "markdown",
      "metadata": {
        "id": "4KumRQTWWlBI"
      },
      "source": [
        "**VIP AINE AI**\n",
        "\n",
        "**PROJECT 5**\n",
        "\n",
        "**ROCK , PAPER , SCISSORS GAME**\n",
        "\n",
        "BY Hrutik Naik"
      ]
    },
    {
      "cell_type": "code",
      "metadata": {
        "id": "-AHyqJkrp0L8"
      },
      "source": [
        "#Importing randint from random to randomise the moves against the input\n",
        "from random import randint"
      ],
      "execution_count": 2,
      "outputs": []
    },
    {
      "cell_type": "code",
      "metadata": {
        "id": "hE_YStp7p98u"
      },
      "source": [
        "#Creating a list with the game options.\n",
        "t = [\"Rock\", \"Paper\", \"Scissors\"]\n",
        "\n",
        "#Assigning random move to the computer\n",
        "computer = t[randint(0,2)]\n",
        "\n",
        "#Setting player to False\n",
        "player = False"
      ],
      "execution_count": 3,
      "outputs": []
    },
    {
      "cell_type": "code",
      "metadata": {
        "colab": {
          "base_uri": "https://localhost:8080/"
        },
        "id": "Og3H38f2p-F9",
        "outputId": "095c3de1-ba1c-40d4-81ce-7a0a19c96cde"
      },
      "source": [
        "#Implementing While loop to execeute the game\n",
        "while player == False:\n",
        "#Setting Player to True\n",
        "    player = input(\"Rock, Paper, Scissors?\")\n",
        "    if player == computer:\n",
        "        print(\"Tie!\")\n",
        "    elif player == \"Rock\":\n",
        "        if computer == \"Paper\":\n",
        "            print(\"You lose!\", computer, \"covers\", player)\n",
        "        else:\n",
        "            print(\"You win!\", player, \"smashes\", computer)\n",
        "    elif player == \"Paper\":\n",
        "        if computer == \"Scissors\":\n",
        "            print(\"You lose!\", computer, \"cut\", player)\n",
        "        else:\n",
        "            print(\"You win!\", player, \"covers\", computer)\n",
        "    elif player == \"Scissors\":\n",
        "        if computer == \"Rock\":\n",
        "            print(\"You lose...\", computer, \"smashes\", player)\n",
        "        else:\n",
        "            print(\"You win!\", player, \"cut\", computer)\n",
        "    else:\n",
        "        print(\"That's not a valid play. Check your spelling!\")\n",
        "    #Player variable was set to True, but we want it to be False so the loop continues\n",
        "    player = False\n",
        "    computer = t[randint(0,2)]"
      ],
      "execution_count": null,
      "outputs": [
        {
          "output_type": "stream",
          "name": "stdout",
          "text": [
            "Rock, Paper, Scissors?Rock\n",
            "You win! Rock smashes Scissors\n",
            "Rock, Paper, Scissors?sock\n",
            "That's not a valid play. Check your spelling!\n",
            "Rock, Paper, Scissors?Paper\n",
            "Tie!\n",
            "Rock, Paper, Scissors?Rock\n",
            "You lose! Paper covers Rock\n"
          ]
        }
      ]
    }
  ]
}